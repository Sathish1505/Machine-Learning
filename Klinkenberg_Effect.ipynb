{
  "nbformat": 4,
  "nbformat_minor": 0,
  "metadata": {
    "colab": {
      "provenance": [],
      "authorship_tag": "ABX9TyPqxu2b3H8xyMesv9InM7Za",
      "include_colab_link": true
    },
    "kernelspec": {
      "name": "python3",
      "display_name": "Python 3"
    },
    "language_info": {
      "name": "python"
    }
  },
  "cells": [
    {
      "cell_type": "markdown",
      "metadata": {
        "id": "view-in-github",
        "colab_type": "text"
      },
      "source": [
        "<a href=\"https://colab.research.google.com/github/Sathish1505/Machine-Learning/blob/main/Klinkenberg_Effect.ipynb\" target=\"_parent\"><img src=\"https://colab.research.google.com/assets/colab-badge.svg\" alt=\"Open In Colab\"/></a>"
      ]
    },
    {
      "cell_type": "code",
      "execution_count": null,
      "metadata": {
        "id": "iF62Xh_XX1ZB"
      },
      "outputs": [],
      "source": [
        "#Klinkenberg effect Calculation"
      ]
    },
    {
      "cell_type": "code",
      "source": [
        "#newton raphsons method"
      ],
      "metadata": {
        "id": "IfEBtP5cYHlH"
      },
      "execution_count": 1,
      "outputs": []
    },
    {
      "cell_type": "code",
      "source": [
        "n=float(input('Square rooted value:'))\n",
        "\n",
        "x_0=float(input('initial guessing valve:'))\n",
        "\n",
        "x=x_0\n",
        "\n",
        "count=0\n",
        "\n",
        "print(f\"the value of x_{count} is {x}\")\n",
        "\n",
        "while (abs(x**2-n)>0.000001):\n",
        "\n",
        "  print('===============================================')\n",
        "\n",
        "  derivative= 2*x\n",
        "\n",
        "  x=x-((x**2-n)/derivative)\n",
        "\n",
        "  count=count+1\n",
        "\n",
        "  print(f\"the value of x_{count} is {x}\")\n",
        "\n",
        "print(f\"\\nthe number of iteration used is {count}\")\n",
        "\n",
        "\n",
        "\n"
      ],
      "metadata": {
        "colab": {
          "base_uri": "https://localhost:8080/"
        },
        "id": "gRPkZL-TYY5H",
        "outputId": "40b5853d-c0a0-4c63-d684-75c82026d437"
      },
      "execution_count": 35,
      "outputs": [
        {
          "output_type": "stream",
          "name": "stdout",
          "text": [
            "Square rooted value:50\n",
            "initial guessing valve:3\n",
            "the value of x_0 is 3.0\n",
            "===============================================\n",
            "the value of x_1 is 9.833333333333332\n",
            "===============================================\n",
            "the value of x_2 is 7.459039548022599\n",
            "===============================================\n",
            "the value of x_3 is 7.081157721369754\n",
            "===============================================\n",
            "the value of x_4 is 7.071075000398609\n",
            "===============================================\n",
            "the value of x_5 is 7.0710678118691295\n",
            "\n",
            "the number of iteration used is 5\n"
          ]
        }
      ]
    },
    {
      "cell_type": "code",
      "source": [],
      "metadata": {
        "id": "_m3WWgcZbb2p"
      },
      "execution_count": 33,
      "outputs": []
    },
    {
      "cell_type": "markdown",
      "source": [
        "Klinkenberg"
      ],
      "metadata": {
        "id": "lDOO2Nr0dTBz"
      }
    },
    {
      "cell_type": "code",
      "source": [
        "def klinkenberg(pm,kg,k):\n",
        "\n",
        "  count=0\n",
        "\n",
        "  print(f'the value of kl_{count} is {k}')\n",
        "\n",
        "  while ((abs(6.9*(k**0.64)+ pm*k - pm*kg))>0.00000001):\n",
        "\n",
        "    print('================================================')\n",
        "\n",
        "    fun_derive = ((6.9*(k**0.64)+ pm*k - pm*kg))/((4.416*(k**(-0.36)))+pm)\n",
        "\n",
        "    k=k-fun_derive\n",
        "\n",
        "    count=count+1\n",
        "\n",
        "    print(f'the value of kl_{count} is {k}')\n",
        "\n",
        "  print(f\"\\nthe final value of k is {k}\")\n",
        "\n"
      ],
      "metadata": {
        "id": "uL6FjUDBdYAL"
      },
      "execution_count": 49,
      "outputs": []
    },
    {
      "cell_type": "code",
      "source": [
        "klinkenberg(6.9,50,1)"
      ],
      "metadata": {
        "colab": {
          "base_uri": "https://localhost:8080/"
        },
        "id": "oHFteQzigNsz",
        "outputId": "60736f99-2fca-41cf-81fb-52b060a999be"
      },
      "execution_count": 56,
      "outputs": [
        {
          "output_type": "stream",
          "name": "stdout",
          "text": [
            "the value of kl_0 is 1\n",
            "================================================\n",
            "the value of kl_1 is 30.268292682926827\n",
            "================================================\n",
            "the value of kl_2 is 39.416487856715186\n",
            "================================================\n",
            "the value of kl_3 is 39.48691428115496\n",
            "================================================\n",
            "the value of kl_4 is 39.48691757814613\n",
            "\n",
            "the final value of k is 39.48691757814613\n"
          ]
        }
      ]
    },
    {
      "cell_type": "code",
      "source": [
        "klinkenberg(5,70,15)"
      ],
      "metadata": {
        "colab": {
          "base_uri": "https://localhost:8080/"
        },
        "id": "UPZe1Kb4g08x",
        "outputId": "e3cd2022-8e77-4211-d505-4797bb10dc50"
      },
      "execution_count": 57,
      "outputs": [
        {
          "output_type": "stream",
          "name": "stdout",
          "text": [
            "the value of kl_0 is 15\n",
            "================================================\n",
            "the value of kl_1 is 50.39782155204842\n",
            "================================================\n",
            "the value of kl_2 is 52.57189086218526\n",
            "================================================\n",
            "the value of kl_3 is 52.574833173855815\n",
            "================================================\n",
            "the value of kl_4 is 52.574833179042955\n",
            "\n",
            "the final value of k is 52.574833179042955\n"
          ]
        }
      ]
    },
    {
      "cell_type": "code",
      "source": [],
      "metadata": {
        "id": "EQJUlUe6lcqx"
      },
      "execution_count": null,
      "outputs": []
    }
  ]
}